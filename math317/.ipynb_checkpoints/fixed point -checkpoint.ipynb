{
 "cells": [
  {
   "cell_type": "code",
   "execution_count": 34,
   "id": "4da2f60b",
   "metadata": {},
   "outputs": [],
   "source": [
    "def f(x):\n",
    "    return x - (x**2 - 3)/2*x"
   ]
  },
  {
   "cell_type": "code",
   "execution_count": 38,
   "id": "4dea6d12",
   "metadata": {},
   "outputs": [],
   "source": [
    "def g(x):\n",
    "    return (1/2)*(x+(3/x))"
   ]
  },
  {
   "cell_type": "code",
   "execution_count": 39,
   "id": "d3605278",
   "metadata": {},
   "outputs": [
    {
     "data": {
      "text/plain": [
       "0.496"
      ]
     },
     "execution_count": 39,
     "metadata": {},
     "output_type": "execute_result"
    }
   ],
   "source": [
    "f(1/5)"
   ]
  },
  {
   "cell_type": "code",
   "execution_count": 40,
   "id": "30090ae1",
   "metadata": {},
   "outputs": [
    {
     "name": "stdout",
     "output_type": "stream",
     "text": [
      "1.7\n",
      "1.7323529411764707\n"
     ]
    }
   ],
   "source": [
    "x_star = 1.7\n",
    "iterations = 0\n",
    "while (abs(x_star-f(x_star)) >= 1/(10**4) and iterations <= 10):\n",
    "    print(x_star)\n",
    "    x_star = g(x_star)\n",
    "    iterations += 1"
   ]
  },
  {
   "cell_type": "code",
   "execution_count": null,
   "id": "00b1a892",
   "metadata": {},
   "outputs": [],
   "source": []
  }
 ],
 "metadata": {
  "kernelspec": {
   "display_name": "Python 3 (ipykernel)",
   "language": "python",
   "name": "python3"
  },
  "language_info": {
   "codemirror_mode": {
    "name": "ipython",
    "version": 3
   },
   "file_extension": ".py",
   "mimetype": "text/x-python",
   "name": "python",
   "nbconvert_exporter": "python",
   "pygments_lexer": "ipython3",
   "version": "3.10.6"
  }
 },
 "nbformat": 4,
 "nbformat_minor": 5
}
